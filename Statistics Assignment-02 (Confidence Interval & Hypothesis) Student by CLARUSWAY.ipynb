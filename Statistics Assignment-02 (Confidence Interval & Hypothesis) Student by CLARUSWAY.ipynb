{
 "cells": [
  {
   "cell_type": "markdown",
   "id": "4e4ca998",
   "metadata": {
    "deletable": false,
    "editable": false
   },
   "source": [
    "<a href=\"https://ondiande.com/contact/\"><img align=\"center\" src=\"https://i.ibb.co/B43qn24/officially-licensed-logo.png\" alt=\"ONDIA Contact\" width=\"110\" height=\"200\" title=\"This notebook is licensed by ONDIA. Please contact the authorized persons about the conditions under which you can use or share.\"></a>"
   ]
  },
  {
   "cell_type": "markdown",
   "id": "07430f9e",
   "metadata": {},
   "source": [
    "<hr>\n",
    "\n",
    "<a href=\"https://lms.clarusway.com/mod/lesson/view.php?id=2463&pageid=4531&startlastseen=no\"><img align=\"center\" src=\"https://i.ibb.co/6Z5pQxD/lmss.png\" alt=\"Open in Clarusway LMS\" width=\"70\" height=\"200\" title=\"Open Clarusway Learning Management Sytem\"></a>\n",
    "\n",
    "<a href=\"https://github.com/clarusway/DS-DE-0322-Students/blob/main/3-%20Classes%26Labs/2-DAwPY/DAwPy_S01_(Numpy_Arrays).ipynb\"><img align=\"left\" src=\"https://i.ibb.co/n3HWyQX/github-logo.png\" alt=\"Open in Clarusway GitHub\" width=\"90\" height=\"150\" title=\"Open and Execute in Clarusway GitHub Repository\"></a>\n",
    "\n",
    "<a href=\"https://nbviewer.org/github/4dsolutions/clarusway_data_analysis/blob/main/DAwPy_S1_%28Numpy_Arrays%29/DAwPy_S1_%28Numpy_Arrays%29.ipynb\"><img align=\"right\" src=\"https://i.ibb.co/48wtV8c/nbviewer-badge.png\" alt=\"Open in nbviewer\" width=\"100\" height=\"100\" title=\"Open and Execute in nbviewer\"></a><br/>\n",
    "\n",
    "<hr>\n",
    "\n",
    "<p style=\"text-align: center;\"><img src=\"https://i.ibb.co/XS0bxSH/best-bootcamps.png\" width=\"300\" height=\"200\" class=\"img-fluid\" alt=\"Best Bootcamp Batches\"></p>\n",
    "\n",
    "<br>\n",
    "\n",
    "<p style=\"text-align: center;\"><img src=\"https://i.ibb.co/Rpz9L36/clarusway-logo-black.png\" width=\"500\" height=\"200\" class=\"img-fluid\" alt=\"CLRSWY_LOGO\"></p>\n",
    "\n",
    "\n",
    "<p style=\"background-color:#E51A59; font-family:newtimeroman; color:#FDFEFE; font-size:130%; text-align:center; border-radius:10px 10px;\">WAY TO REINVENT YOURSELF</p>\n",
    "\n",
    "<br>\n",
    "\n",
    "<img src=https://i.ibb.co/HgnTPh9/stats.png width=\"500\" height=\"200\">\n",
    "\n",
    "\n",
    "![Image_Assignment](https://i.ibb.co/cY9HhF7/bnote-assignment.gif)\n",
    "\n",
    "\n",
    "## <p style=\"background-color:#FDFEFE; font-family:newtimeroman; color:#4d77cf; font-size:175%; text-align:center; border-radius:10px 10px;\">Assignment 02 (Confidence Interval & Hypothesis)</p>"
   ]
  },
  {
   "cell_type": "markdown",
   "id": "9d47fbc6",
   "metadata": {},
   "source": [
    " ### <span style=\"color:#49519E\">1. Import NumPy, SciPy, Pandas, Matplolib, and Seaborn Libraries.<span>"
   ]
  },
  {
   "cell_type": "code",
   "execution_count": 8,
   "id": "bb8aa1ed",
   "metadata": {
    "executionInfo": {
     "elapsed": 2574,
     "status": "ok",
     "timestamp": 1712303184473,
     "user": {
      "displayName": "Richard Thames",
      "userId": "00258987493291873022"
     },
     "user_tz": -180
    },
    "id": "bb8aa1ed"
   },
   "outputs": [],
   "source": [
    "import numpy as np\n",
    "from scipy import stats\n",
    "import seaborn as sns\n",
    "import pandas as pd\n",
    "import matplotlib.pyplot as plt\n",
    "\n",
    "import warnings\n",
    "warnings.filterwarnings('ignore')"
   ]
  },
  {
   "cell_type": "markdown",
   "id": "7f39c5eb",
   "metadata": {},
   "source": [
    "## <p style=\"background-color:#FDFEFE; font-family:newtimeroman; color:#4d77cf; font-size:175%; text-align:center; border-radius:10px 10px;\">Confidence Interval</p>"
   ]
  },
  {
   "cell_type": "markdown",
   "id": "ee936c84",
   "metadata": {
    "id": "ee936c84"
   },
   "source": [
    "## <p style=\"background-color:#58B8E4; font-family:newtimeroman; color:#49519E; font-size:150%; text-align:left; border-radius:10px 10px;\"> EXERCISE-1:</p>\n",
    "\n",
    "+ What is the normal body temperature for healthy humans? A random sample of\n",
    "130 healthy human body temperatures provided by Allen Shoemaker yielded 98.25 degrees and standard deviation 0.73 degrees.\n",
    "\n",
    "- Give a 99% confidence interval for the average body temperature of healthy people."
   ]
  },
  {
   "cell_type": "markdown",
   "id": "1047a05c",
   "metadata": {},
   "source": [
    "#### <p style=\"background-color:#8CCED1; font-family:newtimeroman; color:#635EA7; font-size:175%; text-align:left; border-radius:10px 10px;\">First write the given variables:</p>"
   ]
  },
  {
   "cell_type": "code",
   "execution_count": 14,
   "id": "0bc73a7d",
   "metadata": {},
   "outputs": [],
   "source": [
    "n = 130\n",
    "x = 98.25\n",
    "s = 0.73\n",
    "z = 2.576"
   ]
  },
  {
   "cell_type": "markdown",
   "id": "d0a618d8",
   "metadata": {},
   "source": [
    "#### <p style=\"background-color:#8CCED1; font-family:newtimeroman; color:#635EA7; font-size:175%; text-align:left; border-radius:10px 10px;\">Second calculate te standard error of te mean (SEM):</p>"
   ]
  },
  {
   "cell_type": "code",
   "execution_count": 24,
   "id": "9228112a",
   "metadata": {},
   "outputs": [
    {
     "data": {
      "text/plain": [
       "0.06402523540941313"
      ]
     },
     "execution_count": 24,
     "metadata": {},
     "output_type": "execute_result"
    }
   ],
   "source": [
    "sem = (s / np.sqrt(n))\n",
    "sem"
   ]
  },
  {
   "cell_type": "markdown",
   "id": "6cfaf3df",
   "metadata": {},
   "source": [
    "#### <p style=\"background-color:#8CCED1; font-family:newtimeroman; color:#635EA7; font-size:175%; text-align:left; border-radius:10px 10px;\">Third calculate the interval at the given confidence level:</p>"
   ]
  },
  {
   "cell_type": "code",
   "execution_count": 23,
   "id": "73b4be48",
   "metadata": {},
   "outputs": [
    {
     "data": {
      "text/plain": [
       "[98.09544, 98.40456]"
      ]
     },
     "execution_count": 23,
     "metadata": {},
     "output_type": "execute_result"
    }
   ],
   "source": [
    "lower_limit = x - z * sem\n",
    "upper_limit = x + z * sem\n",
    "CI = [lower_limit, upper_limit]\n",
    "CI"
   ]
  },
  {
   "cell_type": "markdown",
   "id": "57fa7537",
   "metadata": {},
   "source": [
    "#### <p style=\"background-color:#8CCED1; font-family:newtimeroman; color:#635EA7; font-size:175%; text-align:left; border-radius:10px 10px;\">Last make a decision:</p>"
   ]
  },
  {
   "cell_type": "markdown",
   "id": "c80b49db-29b8-40d9-a1d6-fdebab026984",
   "metadata": {},
   "source": [
    "## ortalama deger guven araliginda ciktigindan FAIL TO REJECT"
   ]
  },
  {
   "cell_type": "markdown",
   "id": "35b9c33e",
   "metadata": {
    "id": "35b9c33e"
   },
   "source": [
    "## <p style=\"background-color:#58B8E4; font-family:newtimeroman; color:#49519E; font-size:150%; text-align:left; border-radius:10px 10px;\"> EXERCISE-2:</p>\n",
    "\n",
    "+ The administrators for a hospital wished to estimate the average number of days required for inpatient treatment of patients between the ages of 25 and 34. A random sample of 500 hospital patients between these ages produced a mean and standard deviation equal to 5.4 and 3.1 days, respectively.\n",
    "\n",
    "\n",
    "+ Construct a 95% confidence interval for the mean length of stay for the population of patients from which the sample was drawn.\n",
    "\n"
   ]
  },
  {
   "cell_type": "markdown",
   "id": "4fb3160b",
   "metadata": {},
   "source": [
    "#### <p style=\"background-color:#8CCED1; font-family:newtimeroman; color:#635EA7; font-size:175%; text-align:left; border-radius:10px 10px;\">First write the given variables:</p>"
   ]
  },
  {
   "cell_type": "code",
   "execution_count": 25,
   "id": "329ed20e",
   "metadata": {},
   "outputs": [],
   "source": [
    "n = 500\n",
    "x = 5.4\n",
    "s = 3.1\n",
    "z = 1.96"
   ]
  },
  {
   "cell_type": "markdown",
   "id": "ce57f16b",
   "metadata": {},
   "source": [
    "#### <p style=\"background-color:#8CCED1; font-family:newtimeroman; color:#635EA7; font-size:175%; text-align:left; border-radius:10px 10px;\">Second calculate te standard error of te mean (SEM):</p>"
   ]
  },
  {
   "cell_type": "code",
   "execution_count": 26,
   "id": "c4cdc9d2",
   "metadata": {},
   "outputs": [
    {
     "data": {
      "text/plain": [
       "0.13863621460498696"
      ]
     },
     "execution_count": 26,
     "metadata": {},
     "output_type": "execute_result"
    }
   ],
   "source": [
    "sem = (s / np.sqrt(n))\n",
    "sem"
   ]
  },
  {
   "cell_type": "markdown",
   "id": "49665886",
   "metadata": {},
   "source": [
    "#### <p style=\"background-color:#8CCED1; font-family:newtimeroman; color:#635EA7; font-size:175%; text-align:left; border-radius:10px 10px;\">Third calculate the interval at the given confidence level:</p>"
   ]
  },
  {
   "cell_type": "code",
   "execution_count": 28,
   "id": "21f95f55",
   "metadata": {},
   "outputs": [
    {
     "data": {
      "text/plain": [
       "['5.13', '5.67']"
      ]
     },
     "execution_count": 28,
     "metadata": {},
     "output_type": "execute_result"
    }
   ],
   "source": [
    "lower_limit = x - z * sem\n",
    "upper_limit = x + z * sem\n",
    "CI = [f\"{lower_limit:.2f}\", f\"{upper_limit:.2f}\"]\n",
    "CI"
   ]
  },
  {
   "cell_type": "markdown",
   "id": "7f151f1b",
   "metadata": {},
   "source": [
    "#### <p style=\"background-color:#8CCED1; font-family:newtimeroman; color:#635EA7; font-size:175%; text-align:left; border-radius:10px 10px;\">Last make a decision:</p>"
   ]
  },
  {
   "cell_type": "markdown",
   "id": "bf32945d-5851-4d08-8d03-1c9872d49eee",
   "metadata": {},
   "source": [
    "## ortalama deger guven araliginda ciktigindan FAIL TO REJECT"
   ]
  },
  {
   "cell_type": "markdown",
   "id": "e48c39cc",
   "metadata": {
    "id": "e48c39cc"
   },
   "source": [
    "## <p style=\"background-color:#FDFEFE; font-family:newtimeroman; color:#4d77cf; font-size:175%; text-align:center; border-radius:10px 10px;\">Hypothesis Testing</p>"
   ]
  },
  {
   "cell_type": "markdown",
   "id": "7938a148",
   "metadata": {
    "id": "7938a148"
   },
   "source": [
    "## <p style=\"background-color:#58B8E4; font-family:newtimeroman; color:#49519E; font-size:150%; text-align:left; border-radius:10px 10px;\"> EXERCISE-3:</p>\n",
    "\n",
    "  - The hourly wages in a particular industry are normally distributed with mean $13.20 and\n",
    "standard deviation $2.50. A company in this industry employs 40 workers, paying them an average of $12.20 per hour.\n",
    "Can this company be accused of paying substandard wages? Use an α = .01 level test. (Wackerly, Ex.10.18)\n",
    "\n",
    "\n",
    "  - CHECK: statistic: -2.5298221281347035, pvalue= 0.005706018193000826\n",
    "\n"
   ]
  },
  {
   "cell_type": "markdown",
   "id": "27108709",
   "metadata": {},
   "source": [
    "## <p style=\"background-color:#FFFFFF; font-family:newtimeroman; color:#E9335A; font-size:150%; text-align:left; border-radius:10px 10px;\"> REMINDER:</p>\n",
    "\n",
    "<img src=https://i.ibb.co/G0vg8c2/significance-test-steps.png width=\"400\" height=\"200\">\n",
    "\n"
   ]
  },
  {
   "cell_type": "markdown",
   "id": "962e3116",
   "metadata": {},
   "source": [
    "#### <p style=\"background-color:#8CCED1; font-family:newtimeroman; color:#635EA7; font-size:175%; text-align:left; border-radius:10px 10px;\">First write the given variables:</p>"
   ]
  },
  {
   "cell_type": "code",
   "execution_count": 29,
   "id": "81352dd4",
   "metadata": {},
   "outputs": [],
   "source": [
    "mu = 13.2\n",
    "sigma = 2.5\n",
    "n = 40\n",
    "x_bar = 12.2"
   ]
  },
  {
   "cell_type": "markdown",
   "id": "151e002d",
   "metadata": {},
   "source": [
    "#### <p style=\"background-color:#8CCED1; font-family:newtimeroman; color:#635EA7; font-size:175%; text-align:left; border-radius:10px 10px;\">1. Stating Null (H0) & Alternative (Ha) Hypotheses:</p>"
   ]
  },
  {
   "cell_type": "markdown",
   "id": "da725873-23f4-4ba3-a18c-2a6aa16f9263",
   "metadata": {},
   "source": [
    "\n",
    "## The null hypothesis..........: H0: mu = 13.2\n",
    "## The alternative hypothesis...: Ha: mu < 13.2\n",
    "\n"
   ]
  },
  {
   "cell_type": "markdown",
   "id": "b234bb6e",
   "metadata": {
    "id": "2db580df"
   },
   "source": [
    "#### <p style=\"background-color:#8CCED1; font-family:newtimeroman; color:#635EA7; font-size:175%; text-align:left; border-radius:10px 10px;\">2. Calculating Test Statistics:</p>"
   ]
  },
  {
   "cell_type": "code",
   "execution_count": 33,
   "id": "2373a553",
   "metadata": {},
   "outputs": [
    {
     "data": {
      "text/plain": [
       "-2.5298221281347035"
      ]
     },
     "execution_count": 33,
     "metadata": {},
     "output_type": "execute_result"
    }
   ],
   "source": [
    "z_score = (x_bar-mu) / (sigma/ np.sqrt(n))\n",
    "z_score"
   ]
  },
  {
   "cell_type": "markdown",
   "id": "f4df0032",
   "metadata": {},
   "source": [
    "#### <p style=\"background-color:#8CCED1; font-family:newtimeroman; color:#635EA7; font-size:175%; text-align:left; border-radius:10px 10px;\">3. Calculaing P-Value:</p>"
   ]
  },
  {
   "cell_type": "code",
   "execution_count": 40,
   "id": "9192f0bb",
   "metadata": {},
   "outputs": [
    {
     "data": {
      "text/plain": [
       "0.005706018193000823"
      ]
     },
     "execution_count": 40,
     "metadata": {},
     "output_type": "execute_result"
    }
   ],
   "source": [
    "p_value = stats.norm.cdf(z_score)\n",
    "p_value"
   ]
  },
  {
   "cell_type": "markdown",
   "id": "ee203455",
   "metadata": {},
   "source": [
    "#### <p style=\"background-color:#8CCED1; font-family:newtimeroman; color:#635EA7; font-size:175%; text-align:left; border-radius:10px 10px;\">4. Making a Decision:</p>"
   ]
  },
  {
   "cell_type": "markdown",
   "id": "15f1c72b",
   "metadata": {},
   "source": [
    "<img src=https://i.ibb.co/NCLKcFs/p-value-reject-area.png width=\"400\" height=\"200\">"
   ]
  },
  {
   "cell_type": "code",
   "execution_count": 41,
   "id": "4375364d",
   "metadata": {},
   "outputs": [
    {
     "name": "stdout",
     "output_type": "stream",
     "text": [
      "At 0.01 level of significance, we can reject the null hypothesis in favor of alternative hypothesis.\n"
     ]
    }
   ],
   "source": [
    "alpha = 0.01\n",
    "\n",
    "if p_value < alpha:\n",
    "    print('At {} level of significance, we can reject the null hypothesis in favor of alternative hypothesis.'.format(alpha))\n",
    "else:\n",
    "    print('At {} level of significance, we FAIL to reject the null hypothesis.'.format(alpha))"
   ]
  },
  {
   "cell_type": "markdown",
   "id": "59d32671",
   "metadata": {
    "id": "59d32671"
   },
   "source": [
    "## <p style=\"background-color:#58B8E4; font-family:newtimeroman; color:#49519E; font-size:150%; text-align:left; border-radius:10px 10px;\"> EXERCISE-4:</p>\n",
    "\n",
    "+ Shear strength measurements derived from unconfined compression tests for two types of soils gave the results shown in the following document (measurements in tons per square foot). Do the soils appear to differ with respect to average shear strength, at the 1% significance level?\n",
    "\n",
    "\n",
    "+ Results for two type of soils\n",
    "\n",
    "\n",
    "+ CHECK: statistic: 5.1681473319343345, pvalue= 2.593228732352821e-06"
   ]
  },
  {
   "cell_type": "markdown",
   "id": "cbac47a0",
   "metadata": {},
   "source": [
    "#### <p style=\"background-color:#8CCED1; font-family:newtimeroman; color:#635EA7; font-size:175%; text-align:left; border-radius:10px 10px;\">First Read, Assign Dataset to a DataFrame, and Prepare it for Analysis:</p>"
   ]
  },
  {
   "cell_type": "code",
   "execution_count": 44,
   "id": "24c4e61c",
   "metadata": {
    "id": "24c4e61c",
    "outputId": "bd66bba1-7c60-4e10-81c4-cb853ee93992"
   },
   "outputs": [
    {
     "data": {
      "text/html": [
       "<div>\n",
       "<style scoped>\n",
       "    .dataframe tbody tr th:only-of-type {\n",
       "        vertical-align: middle;\n",
       "    }\n",
       "\n",
       "    .dataframe tbody tr th {\n",
       "        vertical-align: top;\n",
       "    }\n",
       "\n",
       "    .dataframe thead th {\n",
       "        text-align: right;\n",
       "    }\n",
       "</style>\n",
       "<table border=\"1\" class=\"dataframe\">\n",
       "  <thead>\n",
       "    <tr style=\"text-align: right;\">\n",
       "      <th></th>\n",
       "      <th>Soil1</th>\n",
       "      <th>Soil2</th>\n",
       "    </tr>\n",
       "  </thead>\n",
       "  <tbody>\n",
       "    <tr>\n",
       "      <th>0</th>\n",
       "      <td>1.442</td>\n",
       "      <td>1.364</td>\n",
       "    </tr>\n",
       "    <tr>\n",
       "      <th>1</th>\n",
       "      <td>1.943</td>\n",
       "      <td>1.878</td>\n",
       "    </tr>\n",
       "    <tr>\n",
       "      <th>2</th>\n",
       "      <td>1.110</td>\n",
       "      <td>1.337</td>\n",
       "    </tr>\n",
       "    <tr>\n",
       "      <th>3</th>\n",
       "      <td>1.912</td>\n",
       "      <td>1.828</td>\n",
       "    </tr>\n",
       "    <tr>\n",
       "      <th>4</th>\n",
       "      <td>1.553</td>\n",
       "      <td>1.371</td>\n",
       "    </tr>\n",
       "    <tr>\n",
       "      <th>5</th>\n",
       "      <td>1.641</td>\n",
       "      <td>1.428</td>\n",
       "    </tr>\n",
       "    <tr>\n",
       "      <th>6</th>\n",
       "      <td>1.499</td>\n",
       "      <td>1.119</td>\n",
       "    </tr>\n",
       "    <tr>\n",
       "      <th>7</th>\n",
       "      <td>1.347</td>\n",
       "      <td>1.373</td>\n",
       "    </tr>\n",
       "    <tr>\n",
       "      <th>8</th>\n",
       "      <td>1.685</td>\n",
       "      <td>1.589</td>\n",
       "    </tr>\n",
       "    <tr>\n",
       "      <th>9</th>\n",
       "      <td>1.578</td>\n",
       "      <td>1.714</td>\n",
       "    </tr>\n",
       "    <tr>\n",
       "      <th>10</th>\n",
       "      <td>1.866</td>\n",
       "      <td>1.260</td>\n",
       "    </tr>\n",
       "    <tr>\n",
       "      <th>11</th>\n",
       "      <td>1.653</td>\n",
       "      <td>1.492</td>\n",
       "    </tr>\n",
       "    <tr>\n",
       "      <th>12</th>\n",
       "      <td>1.665</td>\n",
       "      <td>1.395</td>\n",
       "    </tr>\n",
       "    <tr>\n",
       "      <th>13</th>\n",
       "      <td>1.640</td>\n",
       "      <td>1.778</td>\n",
       "    </tr>\n",
       "    <tr>\n",
       "      <th>14</th>\n",
       "      <td>1.976</td>\n",
       "      <td>1.611</td>\n",
       "    </tr>\n",
       "    <tr>\n",
       "      <th>15</th>\n",
       "      <td>1.754</td>\n",
       "      <td>1.202</td>\n",
       "    </tr>\n",
       "    <tr>\n",
       "      <th>16</th>\n",
       "      <td>1.589</td>\n",
       "      <td>1.542</td>\n",
       "    </tr>\n",
       "    <tr>\n",
       "      <th>17</th>\n",
       "      <td>1.976</td>\n",
       "      <td>1.094</td>\n",
       "    </tr>\n",
       "    <tr>\n",
       "      <th>18</th>\n",
       "      <td>1.863</td>\n",
       "      <td>1.557</td>\n",
       "    </tr>\n",
       "    <tr>\n",
       "      <th>19</th>\n",
       "      <td>1.932</td>\n",
       "      <td>1.053</td>\n",
       "    </tr>\n",
       "    <tr>\n",
       "      <th>20</th>\n",
       "      <td>1.570</td>\n",
       "      <td>1.183</td>\n",
       "    </tr>\n",
       "    <tr>\n",
       "      <th>21</th>\n",
       "      <td>1.613</td>\n",
       "      <td>1.367</td>\n",
       "    </tr>\n",
       "    <tr>\n",
       "      <th>22</th>\n",
       "      <td>2.054</td>\n",
       "      <td>1.144</td>\n",
       "    </tr>\n",
       "    <tr>\n",
       "      <th>23</th>\n",
       "      <td>1.550</td>\n",
       "      <td>1.151</td>\n",
       "    </tr>\n",
       "    <tr>\n",
       "      <th>24</th>\n",
       "      <td>1.714</td>\n",
       "      <td>1.561</td>\n",
       "    </tr>\n",
       "    <tr>\n",
       "      <th>25</th>\n",
       "      <td>1.896</td>\n",
       "      <td>1.192</td>\n",
       "    </tr>\n",
       "    <tr>\n",
       "      <th>26</th>\n",
       "      <td>1.737</td>\n",
       "      <td>1.489</td>\n",
       "    </tr>\n",
       "    <tr>\n",
       "      <th>27</th>\n",
       "      <td>1.740</td>\n",
       "      <td>1.379</td>\n",
       "    </tr>\n",
       "    <tr>\n",
       "      <th>28</th>\n",
       "      <td>1.708</td>\n",
       "      <td>1.501</td>\n",
       "    </tr>\n",
       "    <tr>\n",
       "      <th>29</th>\n",
       "      <td>1.548</td>\n",
       "      <td>1.277</td>\n",
       "    </tr>\n",
       "    <tr>\n",
       "      <th>30</th>\n",
       "      <td>NaN</td>\n",
       "      <td>1.593</td>\n",
       "    </tr>\n",
       "    <tr>\n",
       "      <th>31</th>\n",
       "      <td>NaN</td>\n",
       "      <td>1.172</td>\n",
       "    </tr>\n",
       "    <tr>\n",
       "      <th>32</th>\n",
       "      <td>NaN</td>\n",
       "      <td>1.510</td>\n",
       "    </tr>\n",
       "    <tr>\n",
       "      <th>33</th>\n",
       "      <td>NaN</td>\n",
       "      <td>1.740</td>\n",
       "    </tr>\n",
       "    <tr>\n",
       "      <th>34</th>\n",
       "      <td>NaN</td>\n",
       "      <td>1.355</td>\n",
       "    </tr>\n",
       "  </tbody>\n",
       "</table>\n",
       "</div>"
      ],
      "text/plain": [
       "    Soil1  Soil2\n",
       "0   1.442  1.364\n",
       "1   1.943  1.878\n",
       "2   1.110  1.337\n",
       "3   1.912  1.828\n",
       "4   1.553  1.371\n",
       "5   1.641  1.428\n",
       "6   1.499  1.119\n",
       "7   1.347  1.373\n",
       "8   1.685  1.589\n",
       "9   1.578  1.714\n",
       "10  1.866  1.260\n",
       "11  1.653  1.492\n",
       "12  1.665  1.395\n",
       "13  1.640  1.778\n",
       "14  1.976  1.611\n",
       "15  1.754  1.202\n",
       "16  1.589  1.542\n",
       "17  1.976  1.094\n",
       "18  1.863  1.557\n",
       "19  1.932  1.053\n",
       "20  1.570  1.183\n",
       "21  1.613  1.367\n",
       "22  2.054  1.144\n",
       "23  1.550  1.151\n",
       "24  1.714  1.561\n",
       "25  1.896  1.192\n",
       "26  1.737  1.489\n",
       "27  1.740  1.379\n",
       "28  1.708  1.501\n",
       "29  1.548  1.277\n",
       "30    NaN  1.593\n",
       "31    NaN  1.172\n",
       "32    NaN  1.510\n",
       "33    NaN  1.740\n",
       "34    NaN  1.355"
      ]
     },
     "execution_count": 44,
     "metadata": {},
     "output_type": "execute_result"
    }
   ],
   "source": [
    "df0 = pd.read_excel(\"soil.xlsx\")\n",
    "df0"
   ]
  },
  {
   "cell_type": "code",
   "execution_count": 45,
   "id": "9d213b6e",
   "metadata": {
    "id": "9d213b6e"
   },
   "outputs": [],
   "source": [
    "df = df0.dropna(axis = 0)"
   ]
  },
  {
   "cell_type": "code",
   "execution_count": 46,
   "id": "896ded3c",
   "metadata": {
    "id": "896ded3c",
    "outputId": "88cb8c45-94fb-4bc1-ee83-350fd104e1fd"
   },
   "outputs": [
    {
     "data": {
      "text/plain": [
       "0     1.442\n",
       "1     1.943\n",
       "2     1.110\n",
       "3     1.912\n",
       "4     1.553\n",
       "5     1.641\n",
       "6     1.499\n",
       "7     1.347\n",
       "8     1.685\n",
       "9     1.578\n",
       "10    1.866\n",
       "11    1.653\n",
       "12    1.665\n",
       "13    1.640\n",
       "14    1.976\n",
       "15    1.754\n",
       "16    1.589\n",
       "17    1.976\n",
       "18    1.863\n",
       "19    1.932\n",
       "20    1.570\n",
       "21    1.613\n",
       "22    2.054\n",
       "23    1.550\n",
       "24    1.714\n",
       "25    1.896\n",
       "26    1.737\n",
       "27    1.740\n",
       "28    1.708\n",
       "29    1.548\n",
       "Name: Soil1, dtype: float64"
      ]
     },
     "execution_count": 46,
     "metadata": {},
     "output_type": "execute_result"
    }
   ],
   "source": [
    "soil1 = df0[\"Soil1\"].dropna(axis=0)\n",
    "soil1"
   ]
  },
  {
   "cell_type": "code",
   "execution_count": 47,
   "id": "4edc0ad4",
   "metadata": {
    "id": "4edc0ad4",
    "outputId": "5088ac00-a95c-4734-cacb-6d1c53b48c7b"
   },
   "outputs": [
    {
     "data": {
      "text/plain": [
       "0     1.364\n",
       "1     1.878\n",
       "2     1.337\n",
       "3     1.828\n",
       "4     1.371\n",
       "5     1.428\n",
       "6     1.119\n",
       "7     1.373\n",
       "8     1.589\n",
       "9     1.714\n",
       "10    1.260\n",
       "11    1.492\n",
       "12    1.395\n",
       "13    1.778\n",
       "14    1.611\n",
       "15    1.202\n",
       "16    1.542\n",
       "17    1.094\n",
       "18    1.557\n",
       "19    1.053\n",
       "20    1.183\n",
       "21    1.367\n",
       "22    1.144\n",
       "23    1.151\n",
       "24    1.561\n",
       "25    1.192\n",
       "26    1.489\n",
       "27    1.379\n",
       "28    1.501\n",
       "29    1.277\n",
       "30    1.593\n",
       "31    1.172\n",
       "32    1.510\n",
       "33    1.740\n",
       "34    1.355\n",
       "Name: Soil2, dtype: float64"
      ]
     },
     "execution_count": 47,
     "metadata": {},
     "output_type": "execute_result"
    }
   ],
   "source": [
    "soil2 = df0[\"Soil2\"]\n",
    "soil2"
   ]
  },
  {
   "cell_type": "markdown",
   "id": "6a906f51",
   "metadata": {},
   "source": [
    "#### <p style=\"background-color:#8CCED1; font-family:newtimeroman; color:#635EA7; font-size:175%; text-align:left; border-radius:10px 10px;\">1. Stating Null (H0) & Alternative (Ha) Hypotheses:</p>"
   ]
  },
  {
   "cell_type": "markdown",
   "id": "17ca7b69-1f3e-45fa-84ef-1aa9ae00e81b",
   "metadata": {},
   "source": [
    "## The null hypothesis..........: H0: mu_1 = mu_2\n",
    "## The alternative hypothesis...: Ha: mu_1 != mu_2\n"
   ]
  },
  {
   "cell_type": "markdown",
   "id": "d50fee84",
   "metadata": {},
   "source": [
    "#### <p style=\"background-color:#8CCED1; font-family:newtimeroman; color:#635EA7; font-size:175%; text-align:left; border-radius:10px 10px;\">2. Calculating Test Statistics:</p>"
   ]
  },
  {
   "cell_type": "code",
   "execution_count": 53,
   "id": "c334dcbe",
   "metadata": {},
   "outputs": [],
   "source": [
    "t_statistic, p_value = stats.ttest_ind(soil1, soil2, equal_var=True)"
   ]
  },
  {
   "cell_type": "code",
   "execution_count": 54,
   "id": "fbe389a1",
   "metadata": {},
   "outputs": [
    {
     "data": {
      "text/plain": [
       "5.1681473319343345"
      ]
     },
     "execution_count": 54,
     "metadata": {},
     "output_type": "execute_result"
    }
   ],
   "source": [
    "t_statistic"
   ]
  },
  {
   "cell_type": "markdown",
   "id": "c0d541a7",
   "metadata": {},
   "source": [
    "#### <p style=\"background-color:#8CCED1; font-family:newtimeroman; color:#635EA7; font-size:175%; text-align:left; border-radius:10px 10px;\">3. Calculaing P-Value:</p>"
   ]
  },
  {
   "cell_type": "code",
   "execution_count": 55,
   "id": "799daf20",
   "metadata": {},
   "outputs": [
    {
     "data": {
      "text/plain": [
       "2.593228732352822e-06"
      ]
     },
     "execution_count": 55,
     "metadata": {},
     "output_type": "execute_result"
    }
   ],
   "source": [
    "p_value"
   ]
  },
  {
   "cell_type": "markdown",
   "id": "f02baf14",
   "metadata": {},
   "source": [
    "#### <p style=\"background-color:#8CCED1; font-family:newtimeroman; color:#635EA7; font-size:175%; text-align:left; border-radius:10px 10px;\">4. Making a Decision:</p>"
   ]
  },
  {
   "cell_type": "markdown",
   "id": "0db47276",
   "metadata": {},
   "source": [
    "<img src=https://i.ibb.co/NCLKcFs/p-value-reject-area.png width=\"400\" height=\"200\">"
   ]
  },
  {
   "cell_type": "markdown",
   "id": "f9efe992-aaf0-40a0-8651-405ad1578d42",
   "metadata": {},
   "source": [
    "## p_value < (alpha = 0.01) oldugundan reject the H0"
   ]
  },
  {
   "cell_type": "markdown",
   "id": "693a345c",
   "metadata": {
    "id": "693a345c"
   },
   "source": [
    "## <p style=\"background-color:#58B8E4; font-family:newtimeroman; color:#49519E; font-size:150%; text-align:left; border-radius:10px 10px;\"> EXERCISE-5:</p>\n",
    "\n",
    "+ The following dataset is based on data provided by the World Bank\n",
    "(https://datacatalog.worldbank.org/dataset/education-statistics). World Bank Edstats.  2015 PISA Test Dataset\n",
    "\n",
    "\n",
    "+ Get descriptive statistics (the central tendency, dispersion and shape of a dataset’s distribution) for each continent\n",
    "group (AS, EU, AF, NA, SA, OC).\n",
    "\n",
    "\n",
    "+ Determine whether there is any difference (on the average) for the math scores among European (EU) and Asian (AS)\n",
    "countries (assume normality and equal variances). Draw side-by-side box plots.\n",
    "\n",
    "\n",
    "+ CHECK: statistic=0.870055317967983, pvalue=0.38826888111307345"
   ]
  },
  {
   "cell_type": "markdown",
   "id": "d0f47547",
   "metadata": {},
   "source": [
    "#### <p style=\"background-color:#8CCED1; font-family:newtimeroman; color:#635EA7; font-size:175%; text-align:left; border-radius:10px 10px;\">First Explore the Dataset:</p>\n",
    "\n",
    "Get descriptive statistics (the central tendency, dispersion and shape of a dataset’s distribution) for each continent group (AS, EU, AF, NA, SA, OC).\n",
    "\n",
    "Determine whether there is any difference (on the average) for the math scores among European (EU) and Asian (AS) countries (assume normality and equal variances). Draw side-by-side box plots."
   ]
  },
  {
   "cell_type": "code",
   "execution_count": 57,
   "id": "d900412f",
   "metadata": {},
   "outputs": [
    {
     "data": {
      "text/html": [
       "<div>\n",
       "<style scoped>\n",
       "    .dataframe tbody tr th:only-of-type {\n",
       "        vertical-align: middle;\n",
       "    }\n",
       "\n",
       "    .dataframe tbody tr th {\n",
       "        vertical-align: top;\n",
       "    }\n",
       "\n",
       "    .dataframe thead th {\n",
       "        text-align: right;\n",
       "    }\n",
       "</style>\n",
       "<table border=\"1\" class=\"dataframe\">\n",
       "  <thead>\n",
       "    <tr style=\"text-align: right;\">\n",
       "      <th></th>\n",
       "      <th>Country Code</th>\n",
       "      <th>Continent_Code</th>\n",
       "      <th>internet_users_per_100</th>\n",
       "      <th>Math</th>\n",
       "      <th>Reading</th>\n",
       "      <th>Science</th>\n",
       "    </tr>\n",
       "  </thead>\n",
       "  <tbody>\n",
       "    <tr>\n",
       "      <th>0</th>\n",
       "      <td>ALB</td>\n",
       "      <td>EU</td>\n",
       "      <td>63.252933</td>\n",
       "      <td>413.1570</td>\n",
       "      <td>405.2588</td>\n",
       "      <td>427.2250</td>\n",
       "    </tr>\n",
       "    <tr>\n",
       "      <th>1</th>\n",
       "      <td>ARE</td>\n",
       "      <td>AS</td>\n",
       "      <td>90.500000</td>\n",
       "      <td>427.4827</td>\n",
       "      <td>433.5423</td>\n",
       "      <td>436.7311</td>\n",
       "    </tr>\n",
       "    <tr>\n",
       "      <th>2</th>\n",
       "      <td>ARG</td>\n",
       "      <td>SA</td>\n",
       "      <td>68.043064</td>\n",
       "      <td>409.0333</td>\n",
       "      <td>425.3031</td>\n",
       "      <td>432.2262</td>\n",
       "    </tr>\n",
       "    <tr>\n",
       "      <th>3</th>\n",
       "      <td>AUS</td>\n",
       "      <td>OC</td>\n",
       "      <td>84.560519</td>\n",
       "      <td>493.8962</td>\n",
       "      <td>502.9006</td>\n",
       "      <td>509.9939</td>\n",
       "    </tr>\n",
       "    <tr>\n",
       "      <th>4</th>\n",
       "      <td>AUT</td>\n",
       "      <td>EU</td>\n",
       "      <td>83.940142</td>\n",
       "      <td>496.7423</td>\n",
       "      <td>484.8656</td>\n",
       "      <td>495.0375</td>\n",
       "    </tr>\n",
       "  </tbody>\n",
       "</table>\n",
       "</div>"
      ],
      "text/plain": [
       "  Country Code Continent_Code  internet_users_per_100      Math   Reading  \\\n",
       "0          ALB             EU               63.252933  413.1570  405.2588   \n",
       "1          ARE             AS               90.500000  427.4827  433.5423   \n",
       "2          ARG             SA               68.043064  409.0333  425.3031   \n",
       "3          AUS             OC               84.560519  493.8962  502.9006   \n",
       "4          AUT             EU               83.940142  496.7423  484.8656   \n",
       "\n",
       "    Science  \n",
       "0  427.2250  \n",
       "1  436.7311  \n",
       "2  432.2262  \n",
       "3  509.9939  \n",
       "4  495.0375  "
      ]
     },
     "execution_count": 57,
     "metadata": {},
     "output_type": "execute_result"
    }
   ],
   "source": [
    "df = pd.read_excel('2015 PISA Test.xlsx')\n",
    "df.head()"
   ]
  },
  {
   "cell_type": "code",
   "execution_count": 58,
   "id": "4021b8ee",
   "metadata": {},
   "outputs": [
    {
     "name": "stdout",
     "output_type": "stream",
     "text": [
      "<class 'pandas.core.frame.DataFrame'>\n",
      "RangeIndex: 70 entries, 0 to 69\n",
      "Data columns (total 6 columns):\n",
      " #   Column                  Non-Null Count  Dtype  \n",
      "---  ------                  --------------  -----  \n",
      " 0   Country Code            70 non-null     object \n",
      " 1   Continent_Code          65 non-null     object \n",
      " 2   internet_users_per_100  70 non-null     float64\n",
      " 3   Math                    70 non-null     float64\n",
      " 4   Reading                 70 non-null     float64\n",
      " 5   Science                 70 non-null     float64\n",
      "dtypes: float64(4), object(2)\n",
      "memory usage: 3.4+ KB\n"
     ]
    }
   ],
   "source": [
    "df.info()"
   ]
  },
  {
   "cell_type": "code",
   "execution_count": 67,
   "id": "98701d7c",
   "metadata": {},
   "outputs": [
    {
     "data": {
      "text/html": [
       "<div>\n",
       "<style scoped>\n",
       "    .dataframe tbody tr th:only-of-type {\n",
       "        vertical-align: middle;\n",
       "    }\n",
       "\n",
       "    .dataframe tbody tr th {\n",
       "        vertical-align: top;\n",
       "    }\n",
       "\n",
       "    .dataframe thead th {\n",
       "        text-align: right;\n",
       "    }\n",
       "</style>\n",
       "<table border=\"1\" class=\"dataframe\">\n",
       "  <thead>\n",
       "    <tr style=\"text-align: right;\">\n",
       "      <th></th>\n",
       "      <th>count</th>\n",
       "      <th>mean</th>\n",
       "      <th>std</th>\n",
       "      <th>min</th>\n",
       "      <th>25%</th>\n",
       "      <th>50%</th>\n",
       "      <th>75%</th>\n",
       "      <th>max</th>\n",
       "      <th>skew</th>\n",
       "      <th>kurtosis</th>\n",
       "    </tr>\n",
       "    <tr>\n",
       "      <th>Continent_Code</th>\n",
       "      <th></th>\n",
       "      <th></th>\n",
       "      <th></th>\n",
       "      <th></th>\n",
       "      <th></th>\n",
       "      <th></th>\n",
       "      <th></th>\n",
       "      <th></th>\n",
       "      <th></th>\n",
       "      <th></th>\n",
       "    </tr>\n",
       "  </thead>\n",
       "  <tbody>\n",
       "    <tr>\n",
       "      <th>AF</th>\n",
       "      <td>2.0</td>\n",
       "      <td>363.21</td>\n",
       "      <td>5.10</td>\n",
       "      <td>359.61</td>\n",
       "      <td>361.41</td>\n",
       "      <td>363.21</td>\n",
       "      <td>365.02</td>\n",
       "      <td>366.82</td>\n",
       "      <td>2.364143e-14</td>\n",
       "      <td>-2.000000</td>\n",
       "    </tr>\n",
       "    <tr>\n",
       "      <th>AS</th>\n",
       "      <td>17.0</td>\n",
       "      <td>466.22</td>\n",
       "      <td>64.36</td>\n",
       "      <td>380.26</td>\n",
       "      <td>403.83</td>\n",
       "      <td>459.82</td>\n",
       "      <td>531.30</td>\n",
       "      <td>564.19</td>\n",
       "      <td>1.315655e-01</td>\n",
       "      <td>-1.519178</td>\n",
       "    </tr>\n",
       "    <tr>\n",
       "      <th>EU</th>\n",
       "      <td>37.0</td>\n",
       "      <td>477.98</td>\n",
       "      <td>35.15</td>\n",
       "      <td>371.31</td>\n",
       "      <td>464.04</td>\n",
       "      <td>489.73</td>\n",
       "      <td>503.72</td>\n",
       "      <td>521.25</td>\n",
       "      <td>-1.194421e+00</td>\n",
       "      <td>0.802606</td>\n",
       "    </tr>\n",
       "    <tr>\n",
       "      <th>OC</th>\n",
       "      <td>2.0</td>\n",
       "      <td>494.56</td>\n",
       "      <td>0.94</td>\n",
       "      <td>493.90</td>\n",
       "      <td>494.23</td>\n",
       "      <td>494.56</td>\n",
       "      <td>494.89</td>\n",
       "      <td>495.22</td>\n",
       "      <td>0.000000e+00</td>\n",
       "      <td>-2.000000</td>\n",
       "    </tr>\n",
       "    <tr>\n",
       "      <th>SA</th>\n",
       "      <td>7.0</td>\n",
       "      <td>402.89</td>\n",
       "      <td>18.13</td>\n",
       "      <td>377.07</td>\n",
       "      <td>388.10</td>\n",
       "      <td>409.03</td>\n",
       "      <td>417.62</td>\n",
       "      <td>422.67</td>\n",
       "      <td>-2.872015e-01</td>\n",
       "      <td>-1.568354</td>\n",
       "    </tr>\n",
       "  </tbody>\n",
       "</table>\n",
       "</div>"
      ],
      "text/plain": [
       "                count    mean    std     min     25%     50%     75%     max  \\\n",
       "Continent_Code                                                                 \n",
       "AF                2.0  363.21   5.10  359.61  361.41  363.21  365.02  366.82   \n",
       "AS               17.0  466.22  64.36  380.26  403.83  459.82  531.30  564.19   \n",
       "EU               37.0  477.98  35.15  371.31  464.04  489.73  503.72  521.25   \n",
       "OC                2.0  494.56   0.94  493.90  494.23  494.56  494.89  495.22   \n",
       "SA                7.0  402.89  18.13  377.07  388.10  409.03  417.62  422.67   \n",
       "\n",
       "                        skew  kurtosis  \n",
       "Continent_Code                          \n",
       "AF              2.364143e-14 -2.000000  \n",
       "AS              1.315655e-01 -1.519178  \n",
       "EU             -1.194421e+00  0.802606  \n",
       "OC              0.000000e+00 -2.000000  \n",
       "SA             -2.872015e-01 -1.568354  "
      ]
     },
     "execution_count": 67,
     "metadata": {},
     "output_type": "execute_result"
    }
   ],
   "source": [
    "descriptive_stats = round(df.groupby(\"Continent_Code\")[\"Math\"].describe(),2)\n",
    "skewness = df.groupby(\"Continent_Code\")[\"Math\"].apply(stats.skew)  \n",
    "kurtosis = df.groupby(\"Continent_Code\")[\"Math\"].apply(stats.kurtosis) \n",
    "\n",
    "descriptive_stats[\"skew\"] = skewness\n",
    "descriptive_stats[\"kurtosis\"] = kurtosis\n",
    "\n",
    "descriptive_stats\n"
   ]
  },
  {
   "cell_type": "code",
   "execution_count": null,
   "id": "d82b149a-d807-4da9-9718-c957f4fc673c",
   "metadata": {},
   "outputs": [],
   "source": []
  },
  {
   "cell_type": "code",
   "execution_count": null,
   "id": "26cac09b-dd08-449e-bab0-1715df4b9f60",
   "metadata": {},
   "outputs": [],
   "source": []
  },
  {
   "cell_type": "markdown",
   "id": "d9a5d66c",
   "metadata": {},
   "source": [
    "#### <p style=\"background-color:#8CCED1; font-family:newtimeroman; color:#635EA7; font-size:175%; text-align:left; border-radius:10px 10px;\">Exploring EU & ASIAN Countries:</p>\n",
    "\n",
    "Determine whether there is any difference (on the average) for the math scores among European (EU) and Asian (AS) countries (assume normality and equal variances). Draw side-by-side box plots. CHECK: statistic=0.870055317967983, pvalue=0.38826888111307345"
   ]
  },
  {
   "cell_type": "code",
   "execution_count": null,
   "id": "772314c2",
   "metadata": {},
   "outputs": [],
   "source": []
  },
  {
   "cell_type": "code",
   "execution_count": null,
   "id": "1d83065a",
   "metadata": {},
   "outputs": [],
   "source": []
  },
  {
   "cell_type": "code",
   "execution_count": null,
   "id": "e3fd837e",
   "metadata": {},
   "outputs": [],
   "source": []
  },
  {
   "cell_type": "code",
   "execution_count": null,
   "id": "2d442dcc",
   "metadata": {},
   "outputs": [],
   "source": []
  },
  {
   "cell_type": "markdown",
   "id": "e1bade48",
   "metadata": {},
   "source": [
    "#### <p style=\"background-color:#8CCED1; font-family:newtimeroman; color:#635EA7; font-size:175%; text-align:left; border-radius:10px 10px;\">1. Stating Null (H0) & Alternative (Ha) Hypotheses:</p>"
   ]
  },
  {
   "cell_type": "markdown",
   "id": "5e8c55a7-ca34-4dca-8000-da157e793921",
   "metadata": {},
   "source": [
    "## The null hypothesis..........: H0: mu_EU = mu_AS\n",
    "## The alternative hypothesis...: Ha: mu_EU != mu_AS"
   ]
  },
  {
   "cell_type": "markdown",
   "id": "8c8950bb",
   "metadata": {},
   "source": [
    "#### <p style=\"background-color:#8CCED1; font-family:newtimeroman; color:#635EA7; font-size:175%; text-align:left; border-radius:10px 10px;\">2. Calculating Test Statistics:</p>"
   ]
  },
  {
   "cell_type": "code",
   "execution_count": 71,
   "id": "8bfa5590",
   "metadata": {},
   "outputs": [],
   "source": [
    "eu_scores = df[df[\"Continent_Code\"] == \"EU\"][\"Math\"]\n",
    "as_scores = df[df[\"Continent_Code\"] == \"AS\"][\"Math\"]"
   ]
  },
  {
   "cell_type": "code",
   "execution_count": 73,
   "id": "402cf1ab",
   "metadata": {},
   "outputs": [
    {
     "name": "stdout",
     "output_type": "stream",
     "text": [
      "T-Statistic: 0.8700553179679789\n"
     ]
    }
   ],
   "source": [
    "t_statistic, p_value = stats.ttest_ind(eu_scores, as_scores, equal_var=True)\n",
    "print(f\"T-Statistic: {t_statistic}\")"
   ]
  },
  {
   "cell_type": "code",
   "execution_count": null,
   "id": "8f53b82a-e702-4a8a-a98d-8ac0c8949728",
   "metadata": {},
   "outputs": [],
   "source": []
  },
  {
   "cell_type": "code",
   "execution_count": null,
   "id": "c366059d-ad96-4c14-a2fd-e632d4790fa5",
   "metadata": {},
   "outputs": [],
   "source": []
  },
  {
   "cell_type": "markdown",
   "id": "3bc99304",
   "metadata": {},
   "source": [
    "#### <p style=\"background-color:#8CCED1; font-family:newtimeroman; color:#635EA7; font-size:175%; text-align:left; border-radius:10px 10px;\">3. Calculaing P-Value:</p>"
   ]
  },
  {
   "cell_type": "code",
   "execution_count": 74,
   "id": "331f7ac4",
   "metadata": {},
   "outputs": [
    {
     "name": "stdout",
     "output_type": "stream",
     "text": [
      "P-Value: 0.38826888111307556\n"
     ]
    }
   ],
   "source": [
    "print(f\"P-Value: {p_value}\")"
   ]
  },
  {
   "cell_type": "markdown",
   "id": "bda5e9e0",
   "metadata": {},
   "source": [
    "#### <p style=\"background-color:#8CCED1; font-family:newtimeroman; color:#635EA7; font-size:175%; text-align:left; border-radius:10px 10px;\">4. Making a Decision:</p>"
   ]
  },
  {
   "cell_type": "markdown",
   "id": "26db0542",
   "metadata": {},
   "source": [
    "<img src=https://i.ibb.co/NCLKcFs/p-value-reject-area.png width=\"400\" height=\"200\">"
   ]
  },
  {
   "cell_type": "markdown",
   "id": "41415a2f-418d-43d6-b60b-fcbdad082e26",
   "metadata": {},
   "source": [
    "## (p_value = 0.388) > (alpha = 0.05) oldugundan fail to reject the H0"
   ]
  },
  {
   "cell_type": "markdown",
   "id": "5d471b5d",
   "metadata": {},
   "source": [
    "#### <p style=\"background-color:#8CCED1; font-family:newtimeroman; color:#635EA7; font-size:175%; text-align:left; border-radius:10px 10px;\">Visualization:</p>"
   ]
  },
  {
   "cell_type": "code",
   "execution_count": 75,
   "id": "d1405ff1",
   "metadata": {},
   "outputs": [
    {
     "data": {
      "image/png": "[encoded data removed]",
      "text/plain": [
       "<Figure size 1000x600 with 1 Axes>"
      ]
     },
     "metadata": {},
     "output_type": "display_data"
    }
   ],
   "source": [
    "plt.figure(figsize=(10, 6))\n",
    "sns.boxplot(x=\"Continent_Code\", y=\"Math\", data=df[df[\"Continent_Code\"].isin([\"EU\", \"AS\"])], palette=\"pastel\")\n",
    "plt.title(\"Math Scores: EU vs AS\", fontsize=14)\n",
    "plt.xlabel(\"Continent\", fontsize=12)\n",
    "plt.ylabel(\"Math Score\", fontsize=12)\n",
    "plt.grid(axis=\"y\", linestyle=\"--\", alpha=0.7)\n",
    "plt.show()"
   ]
  },
  {
   "cell_type": "code",
   "execution_count": null,
   "id": "7bca486d",
   "metadata": {},
   "outputs": [],
   "source": []
  },
  {
   "cell_type": "markdown",
   "id": "0131e8ed",
   "metadata": {},
   "source": [
    "## <p style=\"background-color:#8CCED1; font-family:newtimeroman; color:#49519E; font-size:150%; text-align:center; border-radius:10px 10px;\">END OF THE ASSIGNMENT-02</p>\n",
    "\n",
    "# Now. it's time to relax!\n",
    "\n",
    "![Image_Assignment](https://i.ibb.co/QF5G0yf/reading-books-1110x600.png)\n",
    "[Image Credit](https://booksunlimited.ie/how-to-make-time-for-reading-books-in-a-busy-schedule/)\n",
    "\n",
    "<p style=\"text-align: center;\"><img src=\"https://i.ibb.co/99DQ3TY/DS-Courses.png\" class=\"img-fluid\" \n",
    "alt=\"CLRSWY_Courses\"></p>"
   ]
  },
  {
   "cell_type": "markdown",
   "id": "db41988f",
   "metadata": {
    "deletable": false,
    "editable": false
   },
   "source": [
    "<a href=\"https://ondiande.com/contact/\"><img align=\"center\" src=\"https://i.ibb.co/B43qn24/officially-licensed-logo.png\" alt=\"ONDIA Contact\" width=\"110\" height=\"200\" title=\"This notebook is licensed by ONDIA. Please contact the authorized persons about the conditions under which you can use or share.\"></a>"
   ]
  }
 ],
 "metadata": {
  "colab": {
   "provenance": []
  },
  "kernelspec": {
   "display_name": "Python 3 (ipykernel)",
   "language": "python",
   "name": "python3"
  },
  "language_info": {
   "codemirror_mode": {
    "name": "ipython",
    "version": 3
   },
   "file_extension": ".py",
   "mimetype": "text/x-python",
   "name": "python",
   "nbconvert_exporter": "python",
   "pygments_lexer": "ipython3",
   "version": "3.11.5"
  },
  "toc": {
   "base_numbering": "",
   "nav_menu": {},
   "number_sections": false,
   "sideBar": true,
   "skip_h1_title": false,
   "title_cell": "Table of Contents",
   "title_sidebar": "Contents",
   "toc_cell": false,
   "toc_position": {
    "height": "calc(100% - 180px)",
    "left": "10px",
    "top": "150px",
    "width": "307.2px"
   },
   "toc_section_display": true,
   "toc_window_display": true
  },
  "varInspector": {
   "cols": {
    "lenName": 16,
    "lenType": 16,
    "lenVar": 40
   },
   "kernels_config": {
    "python": {
     "delete_cmd_postfix": "",
     "delete_cmd_prefix": "del ",
     "library": "var_list.py",
     "varRefreshCmd": "print(var_dic_list())"
    },
    "r": {
     "delete_cmd_postfix": ") ",
     "delete_cmd_prefix": "rm(",
     "library": "var_list.r",
     "varRefreshCmd": "cat(var_dic_list()) "
    }
   },
   "types_to_exclude": [
    "module",
    "function",
    "builtin_function_or_method",
    "instance",
    "_Feature"
   ],
   "window_display": false
  }
 },
 "nbformat": 4,
 "nbformat_minor": 5
}
